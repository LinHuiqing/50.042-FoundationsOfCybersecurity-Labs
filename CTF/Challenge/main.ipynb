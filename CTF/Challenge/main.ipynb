{
 "metadata": {
  "language_info": {
   "codemirror_mode": {
    "name": "ipython",
    "version": 3
   },
   "file_extension": ".py",
   "mimetype": "text/x-python",
   "name": "python",
   "nbconvert_exporter": "python",
   "pygments_lexer": "ipython3",
   "version": "3.7.4-final"
  },
  "orig_nbformat": 2,
  "kernelspec": {
   "name": "python3",
   "display_name": "Python 3",
   "language": "python"
  }
 },
 "nbformat": 4,
 "nbformat_minor": 2,
 "cells": [
  {
   "cell_type": "code",
   "execution_count": 1,
   "metadata": {},
   "outputs": [],
   "source": [
    "# get Base64 strings from files\n",
    "p1_b64 = 'MjMxNTEyMzE5MDI5MDUyNDA1NTQ1MTI0MTYzMTAwNjUzNjE2MzQ0MjczNDY2NjYxNzAwODU1ODg1ODM4NjAyNjI2MjIzODE0NDYzMDYyMTk5Nzk5MTk4ODY0MDAzODg0MDU5MzU3Mjk4NzEwNDE3MjUyNDI2NzUwMDc5OTIzMTA4NTA1NjMzMDEwOTk0NjEzMzQyMDA3NDcxMzA3NTY1MDc4NjI0MDEwNjQwMjc4MTUyNDM2MTgyNDM5MzcyOTA0Njk1MDQ2OTk4MDg5NjM2MjAwODkzMDQ5NDQyODg3NzM0MzEyMjcwNzI1NTkxMzM4MTM5NDkxMDg0NTMxNzMyNTYwMTMwNzQ4MjM2NjA3NzE3OTMzMzEwMjg3MDc1Njc2OTQ3Njg3MjM3MjU0NzU1OTI2MjQ5=='\n",
    "p2_b64 = 'NTI0ODAzNTgyNjYxMTQ1NTcxNzYxMjcwMzgxNDQ3MDUyOTM4MjYzMTExNjAzMTYxNjI4MTgxOTA2NzQ0NDg2NjQ4ODczMDE4ODIwMDg3MDMyNTQzMTEwNDc3MzQxODEyMTY2NzgyNzMyMjQ3MTA5NzM0MjI3MzgwODA5NTYzMTEzMzUyMjc5NDIzNjk4Mjc4MTU0MzAzMTIzMzQzNDA0NTA3MDI0NjY3NzI0NzY2MDUyNTI2NTE5NDgwNzIwMTc3Nzc1ODE5NjQxMjAzODg1NTUyODUwMjk5MTM3NjQzOTM5Njg1NzYxNjU0MDY1ODE2Mzk1NDE4MDkzNDI2OTY0MDA1Njk4NDc4OTE5MDQ4Mjg4NzA3MzU5ODkzODkyMjE0NTA2ODE2MjYxMDYyNjI4MzE4OTA1=='\n",
    "p3_b64 = 'NTYzNTUzMDM2NzQyMTcwNDAwMDAzMTc0MjEzNjEyNzM4MzczNDgyMDc2Njg2NTg4MjIyOTcyNTg1MTE1NjA4NjcyMDkxOTM3NTc2OTQ3NDk3MzYyNDYyNzE5MDk2MTkxOTM1NzUzOTAwNzkxOTYzNDk2MTM1NTc3OTMxNzA0MDM1NzM4MzE2NTA3NzQyNDcwNzQ0NjE3MzMwMjgyNTI1NDQ1MjA2NDAyMTIyODYxNDk1NTcyNTk1NjA0MDQyMDQ2ODYyNjA5NjAyNjc2MzM0NzYyMzc0Nzc1MTk3OTg0NjA2NDY3OTYwMzc0OTg2MzA1OTA2NzU0NjAzNDYzODgzMTM4NDEzNzQwNjQxNjU0MDk2MTAyMDU3MjgxMDYyMjIwMzMyMzAyNTg4NDg3NTA0NTY1NTAx=='\n",
    "p4_b64 = 'MTEyMDEyMTU2MTAxNzQ5MDk2NDgyNjQxNjAwNTkxMjE2NzU5NDA3NjMzNjM4NDIyNTk1MjEwNDYxNTczMTA4MzUxMjEyOTczMDY4ODIxODk2MDgyMjczNzQ4NDcwODc1MTg2NzAzMDYyMzUwMDUxMDAzNjE3Njg4MTQ1MDgyNDc1NTc2MTYxNTY5MjAyODAyODkxNzY0NDYwNjY1NDM4NDgxMDYzNTA5MzE4NzAyNDAxNzY1OTg0MDg4Mzg0NTg4NzM0NjMwODA2NDI0NjY0MzYzMDM4MDg2NTc2MTQ4NTk5NTk3NzY4NDYyMTM3NTM5NTU3Nzk2MTIzMDg1MDk5NDE2Njg5NjM0ODA3ODc2MDEzNTkyNzU1Mzg2Njg0MzQxODkyMDQ5MzM3MTE4NjE1MDE2MzQ0=='"
   ]
  },
  {
   "cell_type": "code",
   "execution_count": 2,
   "metadata": {},
   "outputs": [
    {
     "output_type": "execute_result",
     "data": {
      "text/plain": [
       "['MjMxNTEyMzE5MDI5MDUyNDA1NTQ1MTI0MTYzMTAwNjUzNjE2MzQ0MjczNDY2NjYxNzAwODU1ODg1ODM4NjAyNjI2MjIzODE0NDYzMDYyMTk5Nzk5MTk4ODY0MDAzODg0MDU5MzU3Mjk4NzEwNDE3MjUyNDI2NzUwMDc5OTIzMTA4NTA1NjMzMDEwOTk0NjEzMzQyMDA3NDcxMzA3NTY1MDc4NjI0MDEwNjQwMjc4MTUyNDM2MTgyNDM5MzcyOTA0Njk1MDQ2OTk4MDg5NjM2MjAwODkzMDQ5NDQyODg3NzM0MzEyMjcwNzI1NTkxMzM4MTM5NDkxMDg0NTMxNzMyNTYwMTMwNzQ4MjM2NjA3NzE3OTMzMzEwMjg3MDc1Njc2OTQ3Njg3MjM3MjU0NzU1OTI2MjQ5==',\n",
       " 'NTI0ODAzNTgyNjYxMTQ1NTcxNzYxMjcwMzgxNDQ3MDUyOTM4MjYzMTExNjAzMTYxNjI4MTgxOTA2NzQ0NDg2NjQ4ODczMDE4ODIwMDg3MDMyNTQzMTEwNDc3MzQxODEyMTY2NzgyNzMyMjQ3MTA5NzM0MjI3MzgwODA5NTYzMTEzMzUyMjc5NDIzNjk4Mjc4MTU0MzAzMTIzMzQzNDA0NTA3MDI0NjY3NzI0NzY2MDUyNTI2NTE5NDgwNzIwMTc3Nzc1ODE5NjQxMjAzODg1NTUyODUwMjk5MTM3NjQzOTM5Njg1NzYxNjU0MDY1ODE2Mzk1NDE4MDkzNDI2OTY0MDA1Njk4NDc4OTE5MDQ4Mjg4NzA3MzU5ODkzODkyMjE0NTA2ODE2MjYxMDYyNjI4MzE4OTA1==',\n",
       " 'NTYzNTUzMDM2NzQyMTcwNDAwMDAzMTc0MjEzNjEyNzM4MzczNDgyMDc2Njg2NTg4MjIyOTcyNTg1MTE1NjA4NjcyMDkxOTM3NTc2OTQ3NDk3MzYyNDYyNzE5MDk2MTkxOTM1NzUzOTAwNzkxOTYzNDk2MTM1NTc3OTMxNzA0MDM1NzM4MzE2NTA3NzQyNDcwNzQ0NjE3MzMwMjgyNTI1NDQ1MjA2NDAyMTIyODYxNDk1NTcyNTk1NjA0MDQyMDQ2ODYyNjA5NjAyNjc2MzM0NzYyMzc0Nzc1MTk3OTg0NjA2NDY3OTYwMzc0OTg2MzA1OTA2NzU0NjAzNDYzODgzMTM4NDEzNzQwNjQxNjU0MDk2MTAyMDU3MjgxMDYyMjIwMzMyMzAyNTg4NDg3NTA0NTY1NTAx==',\n",
       " 'MTEyMDEyMTU2MTAxNzQ5MDk2NDgyNjQxNjAwNTkxMjE2NzU5NDA3NjMzNjM4NDIyNTk1MjEwNDYxNTczMTA4MzUxMjEyOTczMDY4ODIxODk2MDgyMjczNzQ4NDcwODc1MTg2NzAzMDYyMzUwMDUxMDAzNjE3Njg4MTQ1MDgyNDc1NTc2MTYxNTY5MjAyODAyODkxNzY0NDYwNjY1NDM4NDgxMDYzNTA5MzE4NzAyNDAxNzY1OTg0MDg4Mzg0NTg4NzM0NjMwODA2NDI0NjY0MzYzMDM4MDg2NTc2MTQ4NTk5NTk3NzY4NDYyMTM3NTM5NTU3Nzk2MTIzMDg1MDk5NDE2Njg5NjM0ODA3ODc2MDEzNTkyNzU1Mzg2Njg0MzQxODkyMDQ5MzM3MTE4NjE1MDE2MzQ0==']"
      ]
     },
     "metadata": {},
     "execution_count": 2
    }
   ],
   "source": [
    "parts_b64 = [p1_b64, p2_b64, p3_b64, p4_b64]\n",
    "parts_b64"
   ]
  },
  {
   "cell_type": "code",
   "execution_count": 3,
   "metadata": {},
   "outputs": [],
   "source": [
    "import base64"
   ]
  },
  {
   "cell_type": "code",
   "execution_count": 4,
   "metadata": {},
   "outputs": [
    {
     "output_type": "execute_result",
     "data": {
      "text/plain": [
       "[231512319029052405545124163100653616344273466661700855885838602626223814463062199799198864003884059357298710417252426750079923108505633010994613342007471307565078624010640278152436182439372904695046998089636200893049442887734312270725591338139491084531732560130748236607717933310287075676947687237254755926249,\n",
       " 524803582661145571761270381447052938263111603161628181906744486648873018820087032543110477341812166782732247109734227380809563113352279423698278154303123343404507024667724766052526519480720177775819641203885552850299137643939685761654065816395418093426964005698478919048288707359893892214506816261062628318905,\n",
       " 563553036742170400003174213612738373482076686588222972585115608672091937576947497362462719096191935753900791963496135577931704035738316507742470744617330282525445206402122861495572595604042046862609602676334762374775197984606467960374986305906754603463883138413740641654096102057281062220332302588487504565501,\n",
       " 112012156101749096482641600591216759407633638422595210461573108351212973068821896082273748470875186703062350051003617688145082475576161569202802891764460665438481063509318702401765984088384588734630806424664363038086576148599597768462137539557796123085099416689634807876013592755386684341892049337118615016344]"
      ]
     },
     "metadata": {},
     "execution_count": 4
    }
   ],
   "source": [
    "# convert Base64 strings to integer\n",
    "parts_int = [int(base64.b64decode(part)) for part in parts_b64]\n",
    "parts_int\n"
   ]
  },
  {
   "cell_type": "code",
   "execution_count": 5,
   "metadata": {},
   "outputs": [
    {
     "output_type": "execute_result",
     "data": {
      "text/plain": [
       "22436606392191067862898321914890413051122050164579179671470593407422318126928784369913201892485362980447337866925160673792266994734727263444211771782683935345403776108564933419714282179314422611440217349895686121874130849570576601776436596049297766908062669265409425079601403159208485382330716718928322025781"
      ]
     },
     "metadata": {},
     "execution_count": 5
    }
   ],
   "source": [
    "# XOR all parts together\n",
    "d = parts_int[0]\n",
    "for part in parts_int[1:]:\n",
    "    d = d^part\n",
    "d"
   ]
  },
  {
   "cell_type": "code",
   "execution_count": 6,
   "metadata": {},
   "outputs": [],
   "source": [
    "n = 124321219443206181697063438041871560600255813673058530415984342256877080743912062803617673213280318388931815986150458957184546842536281122161987092669103420265980607928156237557980233537467632496162248610078083583261056747180509179627302610409167850145294232578394117877437464486132435515614804862259257327669"
   ]
  },
  {
   "cell_type": "code",
   "execution_count": 7,
   "metadata": {},
   "outputs": [
    {
     "output_type": "execute_result",
     "data": {
      "text/plain": [
       "114895294751008515406997424273788046692492133779859361734896998403094546414651428208979568115838578794528250079951307006854930201986373555686994005825123419075287385252109908400051583332381797117908576733961817907795806107651604433834735809480813448616341372927816209646839130044346372436898088606914922878360"
      ]
     },
     "metadata": {},
     "execution_count": 7
    }
   ],
   "source": [
    "ciphertext = 0xa39dc7da5332d6eda9fbc3b6e5793ff002ca8b36aea033a5fc8bf392d7fc7243471b309e632451cbd744c55a84365a74d94c8954e545e767fddf57a824532ed2fd705d77e3e0cc98bc3c7cc26ab8d7e2f123f2965272988039d571c0c42609e31ebb2e59a16171c92de804a4a3e6b50d0d24597b2746c01c3c1e961be1e71598\n",
    "ciphertext"
   ]
  },
  {
   "cell_type": "code",
   "execution_count": 8,
   "metadata": {},
   "outputs": [],
   "source": [
    "# square_multiply (can reference Lab 6 & 7)\n",
    "def square_multiply(a,x,n):\n",
    "    y = 1\n",
    "    x_bin = \"{0:b}\".format(x)\n",
    "    for x_i in x_bin:\n",
    "        y = (y**2) % n\n",
    "        if x_i == \"1\":\n",
    "            y = (a*y) % n\n",
    "    y = y % n\n",
    "    return y"
   ]
  },
  {
   "cell_type": "code",
   "execution_count": 9,
   "metadata": {},
   "outputs": [
    {
     "output_type": "execute_result",
     "data": {
      "text/plain": [
       "17552903772119475973376037005590401575291558444922425559076064981997278969472981248461488212829886895171"
      ]
     },
     "metadata": {},
     "execution_count": 9
    }
   ],
   "source": [
    "# decrypt ciphertext\n",
    "decrypted = square_multiply(ciphertext, d, n)\n",
    "decrypted"
   ]
  },
  {
   "cell_type": "code",
   "execution_count": 14,
   "metadata": {},
   "outputs": [],
   "source": [
    "# convert decrypted integers to bytes\n",
    "def convert_to_bytes(integer_val):\n",
    "    return integer_val.to_bytes((integer_val.bit_length() + 7) // 8, byteorder='little')"
   ]
  },
  {
   "cell_type": "code",
   "execution_count": 15,
   "metadata": {},
   "outputs": [
    {
     "output_type": "execute_result",
     "data": {
      "text/plain": [
       "b'CTF{mission_accomplished-comms_infiltrated}'"
      ]
     },
     "metadata": {},
     "execution_count": 15
    }
   ],
   "source": [
    "convert_to_bytes(decrypted)"
   ]
  },
  {
   "cell_type": "code",
   "execution_count": null,
   "metadata": {},
   "outputs": [],
   "source": []
  }
 ]
}